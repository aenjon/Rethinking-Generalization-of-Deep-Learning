{
 "cells": [
  {
   "cell_type": "code",
   "execution_count": 1,
   "metadata": {},
   "outputs": [
    {
     "name": "stderr",
     "output_type": "stream",
     "text": [
      "Using TensorFlow backend.\n"
     ]
    }
   ],
   "source": [
    "import tensorflow as tf\n",
    "import numpy as np\n",
    "from keras.datasets import cifar10"
   ]
  },
  {
   "cell_type": "code",
   "execution_count": 2,
   "metadata": {
    "collapsed": true
   },
   "outputs": [],
   "source": [
    "image_size = 32\n",
    "image_channel = 3\n",
    "learning_rate = 0.00001\n",
    "batch_size = 200\n",
    "epochs = 600\n",
    "class_num = 10\n",
    "data_augmentation = False"
   ]
  },
  {
   "cell_type": "code",
   "execution_count": 4,
   "metadata": {},
   "outputs": [],
   "source": [
    "(x_train, y_train), (x_test, y_test) = cifar10.load_data()\n",
    "x_train = np.reshape(x_train, [-1, image_size**2 * image_channel])\n",
    "num_train = x_train.shape[0]"
   ]
  },
  {
   "cell_type": "code",
   "execution_count": 10,
   "metadata": {
    "collapsed": true
   },
   "outputs": [],
   "source": [
    "def onehot(label):\n",
    "    onehot_label = []\n",
    "    for l in label:\n",
    "        lt = [0]*class_num\n",
    "        lt[l[0]-1] = 1\n",
    "        onehot_label.append(lt)\n",
    "    return np.array(onehot_label)\n",
    "\n",
    "def partially_corrupted_label(label, probability):\n",
    "    pcl = []\n",
    "    for l in label:\n",
    "        if np.random.random_sample() < probability:\n",
    "            pcl.append([np.random.randint(class_num)])\n",
    "        else:\n",
    "            pcl.append([l[0]])\n",
    "    return pcl\n",
    "\n",
    "def random_label(label):\n",
    "    return np.reshape(np.random.randint(class_num, size=len(label)), [-1, 1])\n",
    "\n",
    "def label_similarity(label1, label2):\n",
    "    counter = 0\n",
    "    for l1, l2 in zip(label1, label2):\n",
    "        if l1 != l2:\n",
    "            counter += 1\n",
    "    return (len(label1) - float(counter)) / len(label1)\n",
    "\n",
    "def shuffled_pixel(images):\n",
    "    shuffled_images = []\n",
    "    permutation = np.random.permutation(image_size**2 * image_channel)\n",
    "    for image in images:\n",
    "        shuffled_image = []\n",
    "        for p in permutation:\n",
    "            shuffled_image.append(image[p])\n",
    "        shuffled_images.append(shuffled_image)\n",
    "    return np.array(shuffled_images)\n",
    "\n",
    "def random_pixel(images):\n",
    "    random_pixel_images = []\n",
    "    for image in images:\n",
    "        random_pixel_image = []\n",
    "        np.random.shuffle(image)\n",
    "        random_pixel_images.append(image)\n",
    "    return np.array(random_pixel_images)\n",
    "\n",
    "def gaussian(images):\n",
    "    pixel_num = len(images) * (image_size**2 * image_channel)\n",
    "    pixel = np.reshape(images, [pixel_num])\n",
    "    mean = np.ndarray.sum(pixel) / pixel_num\n",
    "    variance_sum = 0\n",
    "    for p in pixel:\n",
    "        variance_sum += (p - mean)**2\n",
    "    standard_deviation = np.sqrt(variance_sum / pixel_num)\n",
    "    return np.array(np.random.normal(loc=mean, scale=standard_deviation, size=[len(images), (image_size**2 * image_channel)]))"
   ]
  },
  {
   "cell_type": "code",
   "execution_count": 11,
   "metadata": {},
   "outputs": [
    {
     "ename": "NameError",
     "evalue": "name 'guassian' is not defined",
     "output_type": "error",
     "traceback": [
      "\u001b[0;31m---------------------------------------------------------------------------\u001b[0m",
      "\u001b[0;31mNameError\u001b[0m                                 Traceback (most recent call last)",
      "\u001b[0;32m<ipython-input-11-47865ace7c23>\u001b[0m in \u001b[0;36m<module>\u001b[0;34m()\u001b[0m\n\u001b[1;32m      3\u001b[0m \u001b[0mshuffled_pixel_x_train\u001b[0m \u001b[0;34m=\u001b[0m \u001b[0mshuffled_pixel\u001b[0m\u001b[0;34m(\u001b[0m\u001b[0mx_train\u001b[0m\u001b[0;34m)\u001b[0m\u001b[0;34m\u001b[0m\u001b[0m\n\u001b[1;32m      4\u001b[0m \u001b[0mrandom_pixel_x_train\u001b[0m \u001b[0;34m=\u001b[0m \u001b[0mrandom_pixel\u001b[0m\u001b[0;34m(\u001b[0m\u001b[0mx_train\u001b[0m\u001b[0;34m)\u001b[0m\u001b[0;34m\u001b[0m\u001b[0m\n\u001b[0;32m----> 5\u001b[0;31m \u001b[0mguassian_x_train\u001b[0m \u001b[0;34m=\u001b[0m \u001b[0mguassian\u001b[0m\u001b[0;34m(\u001b[0m\u001b[0mx_train\u001b[0m\u001b[0;34m)\u001b[0m\u001b[0;34m\u001b[0m\u001b[0m\n\u001b[0m",
      "\u001b[0;31mNameError\u001b[0m: name 'guassian' is not defined"
     ]
    }
   ],
   "source": [
    "random_label_y_train = random_label(y_train)\n",
    "partially_corrupted_label_y_train = partially_corrupted_label(y_train, 0.3)\n",
    "shuffled_pixel_x_train = shuffled_pixel(x_train)\n",
    "random_pixel_x_train = random_pixel(x_train)\n",
    "guassian_x_train = guassian(x_train)"
   ]
  },
  {
   "cell_type": "code",
   "execution_count": null,
   "metadata": {},
   "outputs": [],
   "source": [
    "n_input_size = image_size**2 * image_channel\n",
    "n_hidden_1 = 512\n",
    "n_hidden_2 = 512\n",
    "n_hidden_3 = 512\n",
    "n_output_size = class_num\n",
    "sigma = 0.01\n",
    "\n",
    "weights = {\n",
    "    'W1': tf.Variable(tf.random_normal([n_input_size, n_hidden_1], stddev=sigma)),\n",
    "    'W2': tf.Variable(tf.random_normal([n_hidden_1, n_hidden_2], stddev=sigma)),\n",
    "    'W3': tf.Variable(tf.random_normal([n_hidden_2, n_hidden_3], stddev=sigma)),\n",
    "    'out': tf.Variable(tf.random_normal([n_hidden_3, n_output_size], stddev=sigma))\n",
    "}\n",
    "biases = {\n",
    "    'b1': tf.Variable(tf.random_normal([n_hidden_1])),\n",
    "    'b2': tf.Variable(tf.random_normal([n_hidden_2])),\n",
    "    'b3': tf.Variable(tf.random_normal([n_hidden_3])),\n",
    "    'out': tf.Variable(tf.random_normal([n_output_size])),\n",
    "\n",
    "}\n",
    "\n",
    "def multilayer_perceptron(x, weights, biases):\n",
    "    layer1 = tf.nn.relu(tf.add(tf.matmul(x, weights['W1']), biases['b1']))\n",
    "    layer2 = tf.nn.relu(tf.add(tf.matmul(layer1, weights['W2']), biases['b2']))\n",
    "    layer3 = tf.nn.relu(tf.add(tf.matmul(layer2, weights['W3']), biases['b3']))\n",
    "    output_layer = tf.nn.relu(tf.add(tf.matmul(layer3, weights['out']), biases['out']))\n",
    "    return output_layer"
   ]
  },
  {
   "cell_type": "code",
   "execution_count": null,
   "metadata": {
    "collapsed": true
   },
   "outputs": [],
   "source": [
    "def train(x_train, y_train):\n",
    "    x = tf.placeholder(tf.float32, [None, n_input_size], name='input')\n",
    "    y = tf.placeholder(tf.float32, [None, n_output_size], name='output')\n",
    "    pred = multilayer_perceptron(x, weights, biases)\n",
    "    #loss\n",
    "    loss = tf.reduce_mean(tf.nn.softmax_cross_entropy_with_logits(pred, y))\n",
    "    #optimizer\n",
    "    optimizer = tf.train.GradientDescentOptimizer(learning_rate=learning_rate).minimize(loss)\n",
    "    correct_prediction = tf.equal(tf.argmax(pred, 1), tf.argmax(y, 1))    \n",
    "    accuracy = tf.reduce_mean(tf.cast(correct_prediction, \"float\"))\n",
    "    y_train = onehot(y_train)\n",
    "\n",
    "    with tf.Session() as sess:\n",
    "\n",
    "        sess.run(tf.global_variables_initializer())\n",
    "        myIdx =  np.random.permutation(num_train)\n",
    "        for epoch in xrange(epochs):\n",
    "            num_batch = num_train / batch_size\n",
    "            for i in xrange(num_batch):\n",
    "                x_batch = x_train[myIdx[i*batch_size:(i+1)*batch_size],:]\n",
    "                y_batch = y_train[myIdx[i*batch_size:(i+1)*batch_size],:]\n",
    "                sess.run(optimizer, feed_dict={x: x_batch, y: y_batch})\n",
    "            if (epoch+1) % 10 == 0:\n",
    "                loss_temp = sess.run(loss, feed_dict={x: x_train, y:y_train}) \n",
    "                accuracy_temp = accuracy.eval({x: x_train, y:y_train})\n",
    "                print \"(epoch {})\".format(epoch+1) \n",
    "                print \"[Loss / Tranining Accuracy] {:05.4f} / {:05.4f}\".format(loss_temp, accuracy_temp)\n",
    "                print \" \""
   ]
  },
  {
   "cell_type": "code",
   "execution_count": null,
   "metadata": {
    "collapsed": true
   },
   "outputs": [],
   "source": [
    "train(x_train, )"
   ]
  }
 ],
 "metadata": {
  "kernelspec": {
   "display_name": "Python 2",
   "language": "python",
   "name": "python2"
  },
  "language_info": {
   "codemirror_mode": {
    "name": "ipython",
    "version": 2
   },
   "file_extension": ".py",
   "mimetype": "text/x-python",
   "name": "python",
   "nbconvert_exporter": "python",
   "pygments_lexer": "ipython2",
   "version": "2.7.5"
  }
 },
 "nbformat": 4,
 "nbformat_minor": 2
}
