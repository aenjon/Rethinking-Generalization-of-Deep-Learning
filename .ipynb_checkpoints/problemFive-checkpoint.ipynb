{
 "cells": [
  {
   "cell_type": "markdown",
   "metadata": {},
   "source": [
    "### Generically large neural networks can express any labeling of the training data\n",
    "\n",
    "原文舉例說可以用包含p = 2n + d個參數的2層ReLU網絡來模擬n個d維樣本的任何標籤可能，但這只是一個網絡表達能力的理論上界，作者沒有繼續討論要達到這個上界需要的條件，以及p、n、d的大小關係對論文核心問題也就是網絡generalization performance的影響。"
   ]
  },
  {
   "cell_type": "code",
   "execution_count": 23,
   "metadata": {
    "collapsed": true
   },
   "outputs": [],
   "source": [
    "import tensorflow as tf\n",
    "import numpy as np"
   ]
  },
  {
   "cell_type": "code",
   "execution_count": 22,
   "metadata": {
    "collapsed": true
   },
   "outputs": [],
   "source": [
    "num_class = 2\n",
    "batch_size = 100\n",
    "num_data = 10000 #n\n",
    "instance_dimension = 500 #d\n",
    "num_parameters = 2 * num_data + instance_dimension #p"
   ]
  },
  {
   "cell_type": "code",
   "execution_count": 24,
   "metadata": {},
   "outputs": [],
   "source": [
    "def generate_data():\n",
    "    return np.random.random_sample(size=[num_data, instance_dimension]), np.random.randint(2, size=num_data)\n",
    "\n",
    "def relu_network(x, weights, biases):\n",
    "    layer1 = tf.nn.relu(tf.add(tf.matmul(x, weights['W1']), biases['b1']))\n",
    "    layer2 = tf.nn.relu(tf.add(tf.matmul(layer1, weights['W2']), biases['b2']))\n",
    "    output_layer = tf.nn.relu(tf.add(tf.matmul(layer2, weights['out']), biases['out']))\n",
    "    return output_layer\n",
    "\n",
    "def onehot(label):\n",
    "    onehot_label = []\n",
    "    for l in label:\n",
    "        lt = [0]*class_num\n",
    "        lt[l[0]-1] = 1\n",
    "        onehot_label.append(lt)\n",
    "    return np.array(onehot_label)\n",
    "\n",
    "weights = {\n",
    "    'W1': tf.Variable(tf.random_normal([instance_dimension, num_parameters], stddev=0.01)),\n",
    "    'W2': tf.Variable(tf.random_normal([num_parameters, num_parameters], stddev=0.01)),\n",
    "    'out': tf.Variable(tf.random_normal([num_parameters, num_class], stddev=0.01))\n",
    "}\n",
    "biases = {\n",
    "    'b1': tf.Variable(tf.random_normal([num_parameters])),\n",
    "    'b2': tf.Variable(tf.random_normal([num_parameters])),\n",
    "    'out': tf.Variable(tf.random_normal([num_class]))\n",
    "}"
   ]
  },
  {
   "cell_type": "code",
   "execution_count": 28,
   "metadata": {},
   "outputs": [],
   "source": [
    "x_train, y_train = generate_data()\n",
    "y_train = np.reshape(y_train, [-1, 1])"
   ]
  },
  {
   "cell_type": "code",
   "execution_count": 29,
   "metadata": {
    "collapsed": true
   },
   "outputs": [],
   "source": [
    "def train(x_train, y_train):\n",
    "    x = tf.placeholder(tf.float32, [None, n_input_size], name='input')\n",
    "    y = tf.placeholder(tf.float32, [None, n_output_size], name='output')\n",
    "    pred = multilayer_perceptron(x, weights, biases)\n",
    "    #loss\n",
    "    loss = tf.reduce_mean(tf.nn.softmax_cross_entropy_with_logits(pred, y))\n",
    "    #optimizer\n",
    "    optimizer = tf.train.GradientDescentOptimizer(learning_rate=learning_rate).minimize(loss)\n",
    "    #optimizer = tf.train.AdamOptimizer(learning_rate=learning_rate).minimize(loss)\n",
    "    correct_prediction = tf.equal(tf.argmax(pred, 1), tf.argmax(y, 1))    \n",
    "    accuracy = tf.reduce_mean(tf.cast(correct_prediction, \"float\"))\n",
    "    y_train = onehot(y_train)\n",
    "\n",
    "    with tf.Session() as sess:\n",
    "\n",
    "        sess.run(tf.global_variables_initializer())\n",
    "        myIdx =  np.random.permutation(num_train)\n",
    "        for epoch in xrange(epochs):\n",
    "            num_batch = num_train / batch_size\n",
    "            for i in xrange(num_batch):\n",
    "                x_batch = x_train[myIdx[i*batch_size:(i+1)*batch_size],:]\n",
    "                y_batch = x_train[myIdx[i*batch_size:(i+1)*batch_size],:]\n",
    "                sess.run(optimizer, feed_dict={x: x_train, y: y_train})\n",
    "            if (epoch+1) % 10 == 0:\n",
    "                loss_temp = sess.run(loss, feed_dict={x: x_train, y: y_train}) \n",
    "                accuracy_temp = accuracy.eval({x: x_train, y: y_train})\n",
    "                print \"(epoch {})\".format(epoch+1) \n",
    "                print \"[Loss / Tranining Accuracy] {:05.4f} / {:05.4f}\".format(loss_temp, accuracy_temp)\n",
    "                print \" \""
   ]
  },
  {
   "cell_type": "code",
   "execution_count": null,
   "metadata": {
    "collapsed": true
   },
   "outputs": [],
   "source": []
  }
 ],
 "metadata": {
  "kernelspec": {
   "display_name": "Python 2",
   "language": "python",
   "name": "python2"
  },
  "language_info": {
   "codemirror_mode": {
    "name": "ipython",
    "version": 2
   },
   "file_extension": ".py",
   "mimetype": "text/x-python",
   "name": "python",
   "nbconvert_exporter": "python",
   "pygments_lexer": "ipython2",
   "version": "2.7.5"
  }
 },
 "nbformat": 4,
 "nbformat_minor": 2
}
