{
 "cells": [
  {
   "cell_type": "markdown",
   "metadata": {},
   "source": [
    "### The effective capacity of neural networks is large enough for a brute-force memorization of the entire data set\n",
    "\n",
    "### Even optimization on random labels remains easy\n",
    "\n",
    "-  FITTING RANDOM LABELS AND PIXELS\n",
    "    - True labels: the original dataset without modification.\n",
    "    - Partially corrupted labels: independently with probability p, the label of each image is corrupted as a uniform random class.\n",
    "    - Random labels: all the labels are replaced with random ones.\n",
    "    - Shuffled pixels: a random permutation of the pixels is chosen and then the same permutation is applied to all the images in both training and test set.\n",
    "    - Random pixels: a different random permutation is applied to each image independently.\n",
    "    - Gaussian: A Gaussian distribution (with matching mean and variance to the original image dataset) is used to generate random pixels for each image."
   ]
  },
  {
   "cell_type": "code",
   "execution_count": null,
   "metadata": {
    "collapsed": true
   },
   "outputs": [],
   "source": [
    "import tensorflow as tf\n",
    "import numpy as np\n",
    "from keras.datasets import cifar10"
   ]
  },
  {
   "cell_type": "code",
   "execution_count": null,
   "metadata": {
    "collapsed": true
   },
   "outputs": [],
   "source": [
    "image_size = 32\n",
    "image_channel = 3\n",
    "learning_rate = 0.001\n",
    "batch_size = 200\n",
    "epochs = 600\n",
    "class_num = 10\n",
    "# data_augmentation = False"
   ]
  },
  {
   "cell_type": "code",
   "execution_count": null,
   "metadata": {
    "collapsed": true
   },
   "outputs": [],
   "source": [
    "(x_train, y_train), (x_test, y_test) = cifar10.load_data()\n",
    "x_train = np.reshape(x_train, [-1, image_size**2 * image_channel])\n",
    "num_train = x_train.shape[0]"
   ]
  },
  {
   "cell_type": "code",
   "execution_count": null,
   "metadata": {
    "collapsed": true
   },
   "outputs": [],
   "source": [
    "def onehot(label):\n",
    "    onehot_label = []\n",
    "    for l in label:\n",
    "        lt = [0]*class_num\n",
    "        lt[l[0]-1] = 1\n",
    "        onehot_label.append(lt)\n",
    "    return np.array(onehot_label)\n",
    "\n",
    "def partially_corrupted_label(label, probability):\n",
    "    pcl = []\n",
    "    for l in label:\n",
    "        if np.random.random_sample() < probability:\n",
    "            pcl.append([np.random.randint(class_num)])\n",
    "        else:\n",
    "            pcl.append([l[0]])\n",
    "    return pcl\n",
    "\n",
    "def random_label(label):\n",
    "    return np.reshape(np.random.randint(class_num, size=len(label)), [-1, 1])\n",
    "\n",
    "def label_similarity(label1, label2):\n",
    "    counter = 0\n",
    "    for l1, l2 in zip(label1, label2):\n",
    "        if l1 != l2:\n",
    "            counter += 1\n",
    "    return (len(label1) - float(counter)) / len(label1)\n",
    "\n",
    "def shuffled_pixel(images):\n",
    "    shuffled_images = []\n",
    "    permutation = np.random.permutation(image_size**2 * image_channel)\n",
    "    for image in images:\n",
    "        shuffled_image = []\n",
    "        for p in permutation:\n",
    "            shuffled_image.append(image[p])\n",
    "        shuffled_images.append(shuffled_image)\n",
    "    return np.array(shuffled_images)\n",
    "\n",
    "def guassian(images):\n",
    "    pixel_num = len(images) * (image_size**2 * image_channel)\n",
    "    pixel = np.reshape(images, [pixel_num])\n",
    "    mean = np.ndarray.sum(pixel) / pixel_num\n",
    "    variance_sum = 0\n",
    "    for p in pixel:\n",
    "        variance_sum += (p - mean)**2\n",
    "    standard_deviation = np.sqrt(variance_sum / pixel_num)\n",
    "    return np.array(np.random.normal(loc=mean, scale=standard_deviation, \n",
    "                                     size=[len(images), (image_size**2 * image_channel)]))\n",
    "\n",
    "def random_pixel(images):\n",
    "    random_pixel_images = []\n",
    "    for image in images:\n",
    "        random_pixel_image = []\n",
    "        np.random.shuffle(image)\n",
    "        random_pixel_images.append(image)\n",
    "    return np.array(random_pixel_images)"
   ]
  },
  {
   "cell_type": "code",
   "execution_count": null,
   "metadata": {
    "collapsed": true
   },
   "outputs": [],
   "source": [
    "n_input_size = image_size**2 * image_channel\n",
    "n_hidden_1 = 512\n",
    "n_hidden_2 = 512\n",
    "n_hidden_3 = 512\n",
    "n_output_size = class_num\n",
    "sigma = 0.01\n",
    "\n",
    "weights = {\n",
    "    'W1': tf.Variable(tf.random_normal([n_input_size, n_hidden_1], stddev=sigma)),\n",
    "    'W2': tf.Variable(tf.random_normal([n_hidden_1, n_hidden_2], stddev=sigma)),\n",
    "    'W3': tf.Variable(tf.random_normal([n_hidden_2, n_hidden_3], stddev=sigma)),\n",
    "    'out': tf.Variable(tf.random_normal([n_hidden_3, n_output_size], stddev=sigma))\n",
    "}\n",
    "biases = {\n",
    "    'b1': tf.Variable(tf.random_normal([n_hidden_1])),\n",
    "    'b2': tf.Variable(tf.random_normal([n_hidden_2])),\n",
    "    'b3': tf.Variable(tf.random_normal([n_hidden_3])),\n",
    "    'out': tf.Variable(tf.random_normal([n_output_size])),\n",
    "\n",
    "}\n",
    "\n",
    "def multilayer_perceptron(x, weights, biases):\n",
    "    layer1 = tf.nn.relu(tf.add(tf.matmul(x, weights['W1']), biases['b1']))\n",
    "    layer2 = tf.nn.relu(tf.add(tf.matmul(layer1, weights['W2']), biases['b2']))\n",
    "    layer3 = tf.nn.relu(tf.add(tf.matmul(layer2, weights['W3']), biases['b3']))\n",
    "    output_layer = tf.nn.relu(tf.add(tf.matmul(layer3, weights['out']), biases['out']))\n",
    "    return output_layer"
   ]
  },
  {
   "cell_type": "code",
   "execution_count": null,
   "metadata": {
    "collapsed": true
   },
   "outputs": [],
   "source": [
    "def train(X_train, Y_train):\n",
    "    x = tf.placeholder(tf.float32, [None, n_input_size], name='input')\n",
    "    y = tf.placeholder(tf.float32, [None, n_output_size], name='output')\n",
    "    pred = multilayer_perceptron(x, weights, biases)\n",
    "    #loss\n",
    "    loss = tf.reduce_mean(tf.nn.softmax_cross_entropy_with_logits(pred, y))\n",
    "    #optimizer\n",
    "    optimizer = tf.train.GradientDescentOptimizer(learning_rate=learning_rate).minimize(loss)\n",
    "    #optimizer = tf.train.AdamOptimizer(learning_rate=learning_rate).minimize(loss)\n",
    "    correct_prediction = tf.equal(tf.argmax(pred, 1), tf.argmax(y, 1))    \n",
    "    accuracy = tf.reduce_mean(tf.cast(correct_prediction, \"float\"))\n",
    "    Y_train = onehot(Y_train)\n",
    "\n",
    "    with tf.Session() as sess:\n",
    "\n",
    "        sess.run(tf.global_variables_initializer())\n",
    "        myIdx =  np.random.permutation(num_train)\n",
    "        for epoch in xrange(epochs):\n",
    "            num_batch = num_train / batch_size\n",
    "            for i in xrange(num_batch):\n",
    "                x_batch = X_train[myIdx[i*batch_size:(i+1)*batch_size],:]\n",
    "                y_batch = Y_train[myIdx[i*batch_size:(i+1)*batch_size],:]\n",
    "                sess.run(optimizer, feed_dict={x: X_train, y: Y_train})\n",
    "            if (epoch+1) % 10 == 0:\n",
    "                loss_temp = sess.run(loss, feed_dict={x: X_train, y: Y_train}) \n",
    "                accuracy_temp = accuracy.eval({x: X_train, y: Y_train})\n",
    "                print \"(epoch {})\".format(epoch+1) \n",
    "                print \"[Loss / Tranining Accuracy] {:05.4f} / {:05.4f}\".format(loss_temp, accuracy_temp)\n",
    "                print \" \""
   ]
  },
  {
   "cell_type": "code",
   "execution_count": null,
   "metadata": {
    "collapsed": true
   },
   "outputs": [],
   "source": [
    "train(x_train, y_train) #Normal"
   ]
  },
  {
   "cell_type": "code",
   "execution_count": null,
   "metadata": {
    "collapsed": true
   },
   "outputs": [],
   "source": [
    "train(x_train, partially_corrupted_label(y_train, 0.3)) #Partially Corrupted label experiment"
   ]
  },
  {
   "cell_type": "code",
   "execution_count": null,
   "metadata": {
    "collapsed": true
   },
   "outputs": [],
   "source": [
    "train(x_train, random_label(y_train)) #Random label experiment"
   ]
  },
  {
   "cell_type": "code",
   "execution_count": null,
   "metadata": {
    "collapsed": true
   },
   "outputs": [],
   "source": [
    "train(shuffled_pixel(x_train), y_train) #Shuffled pixels experiment"
   ]
  },
  {
   "cell_type": "code",
   "execution_count": null,
   "metadata": {
    "collapsed": true
   },
   "outputs": [],
   "source": [
    "train(random_pixel(x_train), y_train) #Random pixels experiment"
   ]
  },
  {
   "cell_type": "code",
   "execution_count": null,
   "metadata": {
    "collapsed": true
   },
   "outputs": [],
   "source": [
    "train(guassian(x_train), y_train) #Guassian generated pixels expermient"
   ]
  }
 ],
 "metadata": {
  "kernelspec": {
   "display_name": "Python 2",
   "language": "python",
   "name": "python2"
  },
  "language_info": {
   "codemirror_mode": {
    "name": "ipython",
    "version": 2
   },
   "file_extension": ".py",
   "mimetype": "text/x-python",
   "name": "python",
   "nbconvert_exporter": "python",
   "pygments_lexer": "ipython2",
   "version": "2.7.5"
  }
 },
 "nbformat": 4,
 "nbformat_minor": 2
}
